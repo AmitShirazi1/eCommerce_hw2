{
 "cells": [
  {
   "cell_type": "markdown",
   "metadata": {},
   "source": [
    "## Task 1"
   ]
  },
  {
   "cell_type": "code",
   "execution_count": 54,
   "metadata": {},
   "outputs": [],
   "source": [
    "import pandas as pd\n",
    "\n",
    "user_clip = pd.read_csv('user_clip.csv').dropna()\n",
    "r_avg = user_clip['weight'].mean()\n",
    "initial_users_bias = user_clip.groupby('user_id')['weight'].mean() - r_avg\n",
    "initial_clips_bias = user_clip.groupby('clip_id')['weight'].mean() - r_avg"
   ]
  },
  {
   "cell_type": "code",
   "execution_count": 55,
   "metadata": {},
   "outputs": [],
   "source": [
    "# Initialize parameters\n",
    "users = user_clip['user_id'].unique()\n",
    "clips = user_clip['clip_id'].unique()\n",
    "num_users = len(users)\n",
    "num_clips = len(clips)\n",
    "\n",
    "user_map = {user: i for i, user in enumerate(users)}\n",
    "clip_map = {clip: i for i, clip in enumerate(clips)}\n",
    "\n",
    "user_indices = user_clip['user_id'].map(user_map).values\n",
    "clip_indices = user_clip['clip_id'].map(clip_map).values\n",
    "train_weights = user_clip['weight'].values"
   ]
  },
  {
   "cell_type": "code",
   "execution_count": 57,
   "metadata": {},
   "outputs": [
    {
     "name": "stdout",
     "output_type": "stream",
     "text": [
      "[-489.57542438 -350.16378199  793.9636895  ... -347.29151232 -344.43436947\n",
      "  867.03255635]\n"
     ]
    }
   ],
   "source": [
    "import numpy as np\n",
    "import pandas as pd\n",
    "import tqdm\n",
    "from time import time\n",
    "\n",
    "user_bias = np.zeros(num_users)\n",
    "clip_bias = np.zeros(num_clips)\n",
    "\n",
    "learning_rate = 0.01\n",
    "num_iterations = 500\n",
    "\n",
    "start = time()\n",
    "while time() - start < 1800:\n",
    "# for _ in tqdm.tqdm(range(num_iterations)):\n",
    "# Gradient descent\n",
    "# for _ in range(num_iterations):\n",
    "    for u_idx, c_idx, r in zip(user_indices, clip_indices, train_weights):\n",
    "        error = r - r_avg - user_bias[u_idx] - clip_bias[c_idx]\n",
    "        user_bias[u_idx] -= learning_rate * (-2 * error + 0.2 * user_bias[u_idx])\n",
    "        clip_bias[c_idx] -= learning_rate * (-2 * error + 0.2 * clip_bias[c_idx])\n",
    "print(user_bias)"
   ]
  },
  {
   "cell_type": "code",
   "execution_count": 58,
   "metadata": {},
   "outputs": [
    {
     "name": "stdout",
     "output_type": "stream",
     "text": [
      "       user_id  clip_id  weight   user_bias   clip_bias\n",
      "0          145    64135     131 -489.575424  627.017770\n",
      "1          145    71619     445 -489.575424 -188.407417\n",
      "2          145    76710      74 -489.575424 -111.415854\n",
      "3          145    77532     157 -489.575424  317.029923\n",
      "4          145    98678      67 -489.575424 -255.014235\n",
      "...        ...      ...     ...         ...         ...\n",
      "80597   999659   844418      36 -867.202176  -88.060018\n",
      "80598   999975    43850      74 -742.448001   72.338029\n",
      "80599   999975   249959      82 -742.448001  243.376635\n",
      "80600   999975   500176      98 -742.448001  102.903631\n",
      "80601   999975   627211      73 -742.448001  -53.618399\n",
      "\n",
      "[80602 rows x 5 columns]\n",
      "       user_id  clip_id  weight   user_bias   clip_bias  prediction\n",
      "0          145    64135     131 -489.575424  627.017770  870.754522\n",
      "1          145    71619     445 -489.575424 -188.407417   55.329335\n",
      "2          145    76710      74 -489.575424 -111.415854  132.320898\n",
      "3          145    77532     157 -489.575424  317.029923  560.766675\n",
      "4          145    98678      67 -489.575424 -255.014235    0.000000\n",
      "...        ...      ...     ...         ...         ...         ...\n",
      "80597   999659   844418      36 -867.202176  -88.060018    0.000000\n",
      "80598   999975    43850      74 -742.448001   72.338029   63.202204\n",
      "80599   999975   249959      82 -742.448001  243.376635  234.240810\n",
      "80600   999975   500176      98 -742.448001  102.903631   93.767805\n",
      "80601   999975   627211      73 -742.448001  -53.618399    0.000000\n",
      "\n",
      "[80602 rows x 6 columns]\n",
      "948851764832.1565\n"
     ]
    }
   ],
   "source": [
    "# Create DataFrames for user and clip biases\n",
    "users_bias = pd.DataFrame({'user_id': users, 'user_bias': user_bias})\n",
    "clips_bias = pd.DataFrame({'clip_id': clips, 'clip_bias': clip_bias})\n",
    "\n",
    "user_clip = user_clip.merge(users_bias, on=['user_id'], how='left')\n",
    "user_clip = user_clip.merge(clips_bias, on=['clip_id'], how='left')\n",
    "print(user_clip)\n",
    "user_clip['prediction'] = r_avg + user_clip['user_bias'] + user_clip['clip_bias']\n",
    "user_clip['prediction'] = user_clip['prediction'].clip(lower=0)\n",
    "print(user_clip)\n",
    "\n",
    "def f1(df):\n",
    "    error = ((df['prediction'] - df['weight']) ** 2).sum()\n",
    "    regularization = 0.1 * ((df['user_bias'] ** 2).sum() + (df['clip_bias'] ** 2).sum())\n",
    "    return error + regularization\n",
    "\n",
    "print(f1(user_clip))"
   ]
  },
  {
   "cell_type": "code",
   "execution_count": 59,
   "metadata": {},
   "outputs": [
    {
     "name": "stdout",
     "output_type": "stream",
     "text": [
      "      user_id  clip_id   user_bias    clip_bias   prediction\n",
      "0      703680   155818  -90.595789   -76.367212   566.349174\n",
      "1      801034   674816 -336.434020   264.506940   661.385096\n",
      "2      975852   181501   -1.052007  -213.965562   518.294607\n",
      "3      563786   589532 -212.498880  -154.035842   366.777454\n",
      "4      680731   173540 -194.354470    -6.078988   532.878718\n",
      "...       ...      ...         ...          ...          ...\n",
      "2973   888088   154970 -609.967284  -192.378217     0.000000\n",
      "2974   791263    90870 -562.687802  -241.720756     0.000000\n",
      "2975   527585   918042 -225.956967  3476.738529  3984.093738\n",
      "2976   197117   765004 -180.900104  -313.323427   239.088645\n",
      "2977    38878   225992  125.988739  -140.148731   719.152184\n",
      "\n",
      "[2978 rows x 5 columns]\n"
     ]
    }
   ],
   "source": [
    "# Prepare the test data for predictions\n",
    "test_df = pd.read_csv('test.csv').filter(['user_id', 'clip_id']).dropna()\n",
    "test_df = test_df.merge(users_bias, on='user_id', how='left')\n",
    "test_df = test_df.merge(clips_bias, on='clip_id', how='left')\n",
    "\n",
    "# Calculate the predictions\n",
    "test_df['prediction'] = r_avg + test_df['user_bias'].fillna(0) + test_df['clip_bias'].fillna(0)\n",
    "test_df['prediction'] = test_df.apply(\n",
    "    lambda row: 0 if pd.isna(row['user_bias']) or pd.isna(row['clip_bias']) else r_avg + row['user_bias'] + row['clip_bias'],\n",
    "    axis=1\n",
    ")\n",
    "test_df['prediction'] = test_df['prediction'].clip(lower=0)\n",
    "\n",
    "# Save the predictions to CSV\n",
    "test_df.filter(['user_id', 'clip_id', 'prediction']).rename(columns={'prediction': 'weight'}).to_csv('319044434_314779166_task1.csv', index=False)\n",
    "\n",
    "# Display the DataFrame\n",
    "print(test_df)"
   ]
  },
  {
   "cell_type": "markdown",
   "metadata": {},
   "source": [
    "## Task 2"
   ]
  },
  {
   "cell_type": "code",
   "execution_count": 13,
   "metadata": {},
   "outputs": [],
   "source": [
    "import numpy as np\n",
    "from scipy.sparse.linalg import svds\n",
    "from scipy.sparse import csr_matrix\n",
    "\n",
    "user_clip = pd.read_csv('user_clip.csv').dropna()\n",
    "user_clip_matrix = user_clip.pivot(index='user_id', columns='clip_id', values='weight').fillna(0)\n",
    "user_ids = user_clip_matrix.index\n",
    "clip_ids = user_clip_matrix.columns\n",
    "\n",
    "user_clip_matrix = csr_matrix(user_clip_matrix.values)\n",
    "U, Σ, V_T = svds(user_clip_matrix, k=20)\n",
    "predicted_user_clip_matrix = U @ np.diag(Σ) @ V_T\n",
    "predicted_user_clip_matrix = pd.DataFrame(predicted_user_clip_matrix, columns=clip_ids, index=user_ids)"
   ]
  },
  {
   "cell_type": "code",
   "execution_count": 14,
   "metadata": {},
   "outputs": [],
   "source": [
    "def predict(user_id_test, clip_id_test):\n",
    "    if user_id_test in predicted_user_clip_matrix.index and clip_id_test in predicted_user_clip_matrix.columns:\n",
    "        return predicted_user_clip_matrix.loc[user_id_test, clip_id_test]\n",
    "    else:\n",
    "        return 0\n",
    "\n",
    "test_df = pd.read_csv('test.csv').filter(['user_id', 'clip_id']).dropna()\n",
    "test_df['weight'] = test_df.apply(lambda row: predict(row['user_id'], row['clip_id']) ,axis=1)\n",
    "test_df.to_csv('319044434_314779166_task2.csv', index=False)"
   ]
  },
  {
   "cell_type": "code",
   "execution_count": 15,
   "metadata": {},
   "outputs": [],
   "source": [
    "predicted_user_clip = predicted_user_clip_matrix.reset_index().melt(id_vars='user_id', var_name='clip_id', value_name='weight')\n",
    "predicted_user_clip = predicted_user_clip.rename(columns={'weight': 'prediction'})"
   ]
  },
  {
   "cell_type": "code",
   "execution_count": 16,
   "metadata": {},
   "outputs": [
    {
     "name": "stdout",
     "output_type": "stream",
     "text": [
      "229268390659.79822\n"
     ]
    }
   ],
   "source": [
    "def f2(weights, predictions):\n",
    "    merged_df = weights.merge(predictions, on=['user_id', 'clip_id'])\n",
    "    sse = ((merged_df['weight'] - merged_df['prediction']) ** 2).sum()\n",
    "    return sse\n",
    "\n",
    "print(f2(user_clip, predicted_user_clip))"
   ]
  }
 ],
 "metadata": {
  "kernelspec": {
   "display_name": "Python 3",
   "language": "python",
   "name": "python3"
  },
  "language_info": {
   "codemirror_mode": {
    "name": "ipython",
    "version": 3
   },
   "file_extension": ".py",
   "mimetype": "text/x-python",
   "name": "python",
   "nbconvert_exporter": "python",
   "pygments_lexer": "ipython3",
   "version": "3.9.4"
  }
 },
 "nbformat": 4,
 "nbformat_minor": 2
}
